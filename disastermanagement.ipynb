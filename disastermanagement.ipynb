{
  "nbformat": 4,
  "nbformat_minor": 0,
  "metadata": {
    "colab": {
      "provenance": [],
      "authorship_tag": "ABX9TyOEL6ATq67tIRjtBH3c7FkT",
      "include_colab_link": true
    },
    "kernelspec": {
      "name": "python3",
      "display_name": "Python 3"
    },
    "language_info": {
      "name": "python"
    }
  },
  "cells": [
    {
      "cell_type": "markdown",
      "metadata": {
        "id": "view-in-github",
        "colab_type": "text"
      },
      "source": [
        "<a href=\"https://colab.research.google.com/github/dharunkumar2129/Disaster-Prediction/blob/main/disastermanagement.ipynb\" target=\"_parent\"><img src=\"https://colab.research.google.com/assets/colab-badge.svg\" alt=\"Open In Colab\"/></a>"
      ]
    },
    {
      "cell_type": "code",
      "execution_count": 1,
      "metadata": {
        "colab": {
          "base_uri": "https://localhost:8080/"
        },
        "id": "G1eKZE9xtjdO",
        "outputId": "1441f2a3-a4cf-44b5-b9ac-c1ca6b71e82e"
      },
      "outputs": [
        {
          "output_type": "stream",
          "name": "stdout",
          "text": [
            "Disaster Prediction: Thunderstorm\n"
          ]
        }
      ],
      "source": [
        "from sklearn.tree import DecisionTreeClassifier\n",
        "import numpy as np\n",
        "\n",
        "# Example features (data structure: list of lists, each sublist is an input feature set)\n",
        "# Features: [temperature (°C), humidity (%), wind speed (km/h), rain (mm)]\n",
        "# Example data points (hypothetical)\n",
        "X = [\n",
        "    [30, 70, 15, 2],  # Clear day\n",
        "    [35, 80, 25, 3],  # Hot and windy, rain\n",
        "    [25, 90, 30, 50], # Thunderstorm\n",
        "    [40, 40, 10, 0],  # Heatwave\n",
        "    [10, 95, 45, 60], # Cyclone\n",
        "    [20, 85, 35, 70], # Heavy rainfall\n",
        "]\n",
        "\n",
        "# Labels (0: No Disaster, 1: Thunderstorm, 2: Heatwave, 3: Cyclone)\n",
        "Y = [0, 1, 1, 2, 3, 3]\n",
        "\n",
        "# Create the decision tree model\n",
        "clf = DecisionTreeClassifier()\n",
        "\n",
        "# Train the decision tree with the data\n",
        "clf.fit(X, Y)\n",
        "\n",
        "# Function to predict disaster based on input features\n",
        "def predict_disaster(temp, humidity, wind_speed, rain):\n",
        "    prediction = clf.predict([[temp, humidity, wind_speed, rain]])\n",
        "    disaster_labels = {0: \"No Disaster\", 1: \"Thunderstorm\", 2: \"Heatwave\", 3: \"Cyclone\"}\n",
        "    return disaster_labels[prediction[0]]\n",
        "\n",
        "# Example prediction\n",
        "temperature = 28\n",
        "humidity = 88\n",
        "wind_speed = 32\n",
        "rain = 55\n",
        "\n",
        "disaster_prediction = predict_disaster(temperature, humidity, wind_speed, rain)\n",
        "print(f\"Disaster Prediction: {disaster_prediction}\")\n"
      ]
    }
  ]
}